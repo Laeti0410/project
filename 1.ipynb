{
 "cells": [
  {
   "cell_type": "code",
   "execution_count": null,
   "id": "fcec84b0",
   "metadata": {},
   "outputs": [],
   "source": [
    "import dash\n",
    "\n",
    "# For interactive components like graphs, dropdowns, or date ranges.\n",
    "import dash_core_components as dcc \n",
    "\n",
    "# For HTML tags\n",
    "import dash_html_components as html\n",
    "\n",
    "from dash.dependencies import Input, Output\n",
    "\n",
    "import pandas as pd\n",
    "\n",
    "# For graphics\n",
    "import plotly.express as px \n",
    "import plotly.graph_objs as go"
   ]
  },
  {
   "cell_type": "code",
   "execution_count": null,
   "id": "3cf32225",
   "metadata": {},
   "outputs": [],
   "source": [
    "app = dash.Dash(external_stylesheets=external_stylesheets) # Always include\n",
    "\n",
    "# Application layout: main meat of the application\n",
    "app.layout = html.Div(children=[\n",
    "    # [HTML tag]: H1, H2, H3, H4 for different titles\n",
    "    html.H1(children='Hello Dash'), \n",
    "    \n",
    "    # [HTML tag] Div : a division or a section in an HTML document.\n",
    "    html.Div(children='''\n",
    "        Dash: A web application framework for Python [Example].\n",
    "    '''),\n",
    "])"
   ]
  },
  {
   "cell_type": "code",
   "execution_count": null,
   "id": "7aea4561",
   "metadata": {},
   "outputs": [],
   "source": [
    "app.run_server()"
   ]
  }
 ],
 "metadata": {
  "kernelspec": {
   "display_name": "Python 3 (ipykernel)",
   "language": "python",
   "name": "python3"
  },
  "language_info": {
   "codemirror_mode": {
    "name": "ipython",
    "version": 3
   },
   "file_extension": ".py",
   "mimetype": "text/x-python",
   "name": "python",
   "nbconvert_exporter": "python",
   "pygments_lexer": "ipython3",
   "version": "3.9.7"
  }
 },
 "nbformat": 4,
 "nbformat_minor": 5
}
